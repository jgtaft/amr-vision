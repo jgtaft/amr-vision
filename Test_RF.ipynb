{
 "cells": [
  {
   "cell_type": "code",
   "execution_count": 1,
   "metadata": {
    "autoscroll": false,
    "collapsed": false,
    "ein.tags": "worksheet-0",
    "slideshow": {
     "slide_type": "-"
    }
   },
   "outputs": [],
   "source": [
    "import numpy as np\n",
    "import pandas as pd\n",
    "from sklearn.model_selection import train_test_split\n",
    "from sklearn.ensemble import RandomForestClassifier"
   ]
  },
  {
   "cell_type": "code",
   "execution_count": 2,
   "metadata": {
    "autoscroll": false,
    "collapsed": false,
    "ein.tags": "worksheet-0",
    "slideshow": {
     "slide_type": "-"
    }
   },
   "outputs": [],
   "source": [
    "import glob\n",
    "file_list = glob.glob(\"../data/*.tsv\")"
   ]
  },
  {
   "cell_type": "code",
   "execution_count": 7,
   "metadata": {
    "autoscroll": false,
    "collapsed": false,
    "ein.tags": "worksheet-0",
    "slideshow": {
     "slide_type": "-"
    }
   },
   "outputs": [],
   "source": [
    "bpmap = {\"A\": 0, \"T\": 1, \"C\": 2, \"G\": 3}\n",
    "\n",
    "def map_genome(base_pair):\n",
    "    return bpmap[base_pair]\n",
    "\n",
    "# Go from file name to list of length 3994, each entry w/ 330 base pair sequence\n",
    "def file_to_matrix(file_name):\n",
    "    genome_data = pd.read_csv(file_name, sep='\\t',\n",
    "                              names = ['foo', 'bar', 'genome'], skiprows=3)\n",
    "    genome = genome_data['genome']\n",
    "\n",
    "    genome_len = sum(map(len, genome))\n",
    "\n",
    "    genome_vec = np.zeros(genome_len)\n",
    "\n",
    "    i = 0\n",
    "    for seq in genome:\n",
    "        mapped_seq = list(map(map_genome, list(seq)))\n",
    "        genome_vec[i:i+len(mapped_seq)] = mapped_seq\n",
    "        i += len(mapped_seq)\n",
    "\n",
    "    return genome_vec"
   ]
  },
  {
   "cell_type": "code",
   "execution_count": null,
   "metadata": {
    "autoscroll": false,
    "collapsed": false,
    "ein.tags": "worksheet-0",
    "slideshow": {
     "slide_type": "-"
    }
   },
   "outputs": [],
   "source": [
    "data_matrices = list(map(file_to_matrix, file_list))\n",
    "# 241 samples, each with 1,318,020 base pairs\n"
   ]
  },
  {
   "cell_type": "code",
   "execution_count": 4,
   "metadata": {
    "autoscroll": false,
    "collapsed": false,
    "ein.tags": "worksheet-0",
    "slideshow": {
     "slide_type": "-"
    }
   },
   "outputs": [],
   "source": [
    "clf = RandomForestClassifier(n_estimators=500)\n",
    "clf.fit(X_train, y_train)"
   ]
  },
  {
   "cell_type": "code",
   "execution_count": null,
   "metadata": {
    "autoscroll": false,
    "collapsed": false,
    "ein.tags": "worksheet-0",
    "slideshow": {
     "slide_type": "-"
    }
   },
   "outputs": [],
   "source": [
    "# Test and check accuracy\n",
    "print(clf.score(X_test, y_test)"
   ]
  }
 ],
 "metadata": {
  "name": "Test_RF.ipynb"
 },
 "nbformat": 4,
 "nbformat_minor": 2
}
