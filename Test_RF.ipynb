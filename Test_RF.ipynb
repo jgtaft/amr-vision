{
 "cells": [
  {
   "cell_type": "code",
   "execution_count": 7,
   "metadata": {
    "autoscroll": false,
    "collapsed": false,
    "ein.tags": "worksheet-0",
    "slideshow": {
     "slide_type": "-"
    }
   },
   "outputs": [],
   "source": [
    "import numpy as np\n",
    "import pandas as pd\n",
    "from sklearn.model_selection import train_test_split\n",
    "from sklearn.ensemble import RandomForestClassifier"
   ]
  },
  {
   "cell_type": "code",
   "execution_count": 72,
   "metadata": {
    "autoscroll": false,
    "collapsed": false,
    "ein.tags": "worksheet-0",
    "slideshow": {
     "slide_type": "-"
    }
   },
   "outputs": [],
   "source": [
    "import glob\n",
    "file_list = glob.glob(\"data/*.tsv\")\n",
    "bad_files = ['data/SRR3722077_wgmlst_sig.tsv', 'data/SRR3722081_wgmlst_sig.tsv',\n",
    "             'data/SRR3722145_wgmlst_sig.tsv']\n",
    "file_list = list(filter(lambda x: x not in bad_files, file_list))"
   ]
  },
  {
   "cell_type": "code",
   "execution_count": 73,
   "metadata": {
    "autoscroll": false,
    "collapsed": false,
    "ein.tags": "worksheet-0",
    "slideshow": {
     "slide_type": "-"
    }
   },
   "outputs": [],
   "source": [
    "bpmap = {\"A\": 0, \"T\": 1, \"C\": 2, \"G\": 3}\n",
    "\n",
    "def map_genome(base_pair):\n",
    "    return bpmap[base_pair]\n",
    "\n",
    "# Go from file name to list of length 3994, each entry w/ 330 base pair sequence\n",
    "def file_to_matrix(file_name):\n",
    "    genome_data = pd.read_csv(file_name, sep='\\t',\n",
    "                              names = ['foo', 'bar', 'genome'], skiprows=3)\n",
    "    genome = genome_data['genome']\n",
    "    # Flatten\n",
    "    genome = genome.values.flatten()\n",
    "    genome_len = len(genome)\n",
    "    genome_vec = list(map(map_genome, list(genome[0])))\n",
    "    print(file_name)\n",
    "\n",
    "    return genome_vec"
   ]
  },
  {
   "cell_type": "code",
   "execution_count": null,
   "metadata": {
    "autoscroll": false,
    "collapsed": false,
    "ein.tags": "worksheet-0",
    "slideshow": {
     "slide_type": "-"
    }
   },
   "outputs": [
    {
     "name": "stdout",
     "output_type": "stream",
     "text": [
      "data/SRR3722097_wgmlst_sig.tsv\n",
      "data/SRR3722179_wgmlst_sig.tsv\n",
      "data/SRR3722138_wgmlst_sig.tsv\n",
      "data/SRR3722184_wgmlst_sig.tsv\n",
      "data/SRR3721971_wgmlst_sig.tsv\n",
      "data/SRR3722219_wgmlst_sig.tsv\n"
     ]
    },
    {
     "name": "stdout",
     "output_type": "stream",
     "text": [
      "data/SRR3722114_wgmlst_sig.tsv\n",
      "data/SRR3722210_wgmlst_sig.tsv\n",
      "data/SRR3722132_wgmlst_sig.tsv\n",
      "data/SRR3721963_wgmlst_sig.tsv\n",
      "data/SRR3722199_wgmlst_sig.tsv\n",
      "data/SRR3722215_wgmlst_sig.tsv\n",
      "data/SRR3722216_wgmlst_sig.tsv\n"
     ]
    },
    {
     "name": "stdout",
     "output_type": "stream",
     "text": [
      "data/SRR3722058_wgmlst_sig.tsv\n",
      "data/SRR3722103_wgmlst_sig.tsv\n",
      "data/SRR3722003_wgmlst_sig.tsv\n",
      "data/SRR3722135_wgmlst_sig.tsv\n",
      "data/SRR3722121_wgmlst_sig.tsv\n"
     ]
    },
    {
     "name": "stdout",
     "output_type": "stream",
     "text": [
      "data/SRR3722034_wgmlst_sig.tsv\n",
      "data/SRR3722130_wgmlst_sig.tsv\n",
      "data/SRR3722082_wgmlst_sig.tsv\n",
      "data/SRR3722181_wgmlst_sig.tsv\n",
      "data/SRR3722051_wgmlst_sig.tsv\n"
     ]
    },
    {
     "name": "stdout",
     "output_type": "stream",
     "text": [
      "data/SRR3722191_wgmlst_sig.tsv\n",
      "data/SRR3722086_wgmlst_sig.tsv\n",
      "data/SRR3722233_wgmlst_sig.tsv\n",
      "data/SRR3722192_wgmlst_sig.tsv\n",
      "data/SRR3722042_wgmlst_sig.tsv\n"
     ]
    },
    {
     "name": "stdout",
     "output_type": "stream",
     "text": [
      "data/SRR3722127_wgmlst_sig.tsv\n",
      "data/SRR3722197_wgmlst_sig.tsv\n",
      "data/SRR3722048_wgmlst_sig.tsv\n",
      "data/SRR3722128_wgmlst_sig.tsv\n",
      "data/SRR3722234_wgmlst_sig.tsv\n",
      "data/SRR3721978_wgmlst_sig.tsv\n"
     ]
    },
    {
     "name": "stdout",
     "output_type": "stream",
     "text": [
      "data/SRR3722122_wgmlst_sig.tsv\n",
      "data/SRR3722070_wgmlst_sig.tsv\n",
      "data/SRR3722188_wgmlst_sig.tsv\n",
      "data/SRR3722158_wgmlst_sig.tsv\n",
      "data/SRR3722016_wgmlst_sig.tsv\n"
     ]
    },
    {
     "name": "stdout",
     "output_type": "stream",
     "text": [
      "data/SRR3721995_wgmlst_sig.tsv\n",
      "data/SRR3722120_wgmlst_sig.tsv\n",
      "data/SRR3722221_wgmlst_sig.tsv\n",
      "data/SRR3722146_wgmlst_sig.tsv\n",
      "data/SRR3722021_wgmlst_sig.tsv\n",
      "data/SRR3721974_wgmlst_sig.tsv\n"
     ]
    },
    {
     "name": "stdout",
     "output_type": "stream",
     "text": [
      "data/SRR3722218_wgmlst_sig.tsv\n",
      "data/SRR3721968_wgmlst_sig.tsv\n",
      "data/SRR3722000_wgmlst_sig.tsv\n",
      "data/SRR3722014_wgmlst_sig.tsv\n",
      "data/SRR3722029_wgmlst_sig.tsv\n",
      "data/SRR3722098_wgmlst_sig.tsv\n"
     ]
    },
    {
     "name": "stdout",
     "output_type": "stream",
     "text": [
      "data/SRR3722015_wgmlst_sig.tsv\n",
      "data/SRR3722185_wgmlst_sig.tsv\n",
      "data/SRR3722002_wgmlst_sig.tsv\n",
      "data/SRR3722090_wgmlst_sig.tsv\n",
      "data/SRR3722154_wgmlst_sig.tsv\n",
      "data/SRR3722095_wgmlst_sig.tsv\n"
     ]
    },
    {
     "name": "stdout",
     "output_type": "stream",
     "text": [
      "data/SRR3722030_wgmlst_sig.tsv\n",
      "data/SRR3722011_wgmlst_sig.tsv\n",
      "data/SRR3721997_wgmlst_sig.tsv\n",
      "data/SRR3722137_wgmlst_sig.tsv\n",
      "data/SRR3722064_wgmlst_sig.tsv\n"
     ]
    },
    {
     "name": "stdout",
     "output_type": "stream",
     "text": [
      "data/SRR3722109_wgmlst_sig.tsv\n",
      "data/SRR3722189_wgmlst_sig.tsv\n",
      "data/SRR3722183_wgmlst_sig.tsv\n",
      "data/SRR3722053_wgmlst_sig.tsv\n",
      "data/SRR3722089_wgmlst_sig.tsv\n",
      "data/SRR3722022_wgmlst_sig.tsv\n"
     ]
    },
    {
     "name": "stdout",
     "output_type": "stream",
     "text": [
      "data/SRR3722148_wgmlst_sig.tsv\n",
      "data/SRR3722230_wgmlst_sig.tsv\n",
      "data/SRR3722204_wgmlst_sig.tsv\n",
      "data/SRR3722157_wgmlst_sig.tsv\n",
      "data/SRR3722205_wgmlst_sig.tsv\n",
      "data/SRR3722049_wgmlst_sig.tsv\n"
     ]
    },
    {
     "name": "stdout",
     "output_type": "stream",
     "text": [
      "data/SRR3721965_wgmlst_sig.tsv\n",
      "data/SRR3721982_wgmlst_sig.tsv\n",
      "data/SRR3722224_wgmlst_sig.tsv\n",
      "data/SRR3722220_wgmlst_sig.tsv\n",
      "data/SRR3722203_wgmlst_sig.tsv\n",
      "data/SRR3721977_wgmlst_sig.tsv\n"
     ]
    },
    {
     "name": "stdout",
     "output_type": "stream",
     "text": [
      "data/SRR3722152_wgmlst_sig.tsv\n",
      "data/SRR3722017_wgmlst_sig.tsv\n",
      "data/SRR3722099_wgmlst_sig.tsv\n",
      "data/SRR3722194_wgmlst_sig.tsv\n",
      "data/SRR3722083_wgmlst_sig.tsv\n"
     ]
    },
    {
     "name": "stdout",
     "output_type": "stream",
     "text": [
      "data/SRR3722065_wgmlst_sig.tsv\n",
      "data/SRR3722004_wgmlst_sig.tsv\n",
      "data/SRR3722235_wgmlst_sig.tsv\n",
      "data/SRR3721990_wgmlst_sig.tsv\n",
      "data/SRR3722092_wgmlst_sig.tsv\n"
     ]
    },
    {
     "name": "stdout",
     "output_type": "stream",
     "text": [
      "data/SRR3722209_wgmlst_sig.tsv\n",
      "data/SRR3722067_wgmlst_sig.tsv\n",
      "data/SRR3722111_wgmlst_sig.tsv\n",
      "data/SRR3722023_wgmlst_sig.tsv\n",
      "data/SRR3722005_wgmlst_sig.tsv\n",
      "data/SRR3722139_wgmlst_sig.tsv\n"
     ]
    },
    {
     "name": "stdout",
     "output_type": "stream",
     "text": [
      "data/SRR3722100_wgmlst_sig.tsv\n",
      "data/SRR3721993_wgmlst_sig.tsv\n",
      "data/SRR3722134_wgmlst_sig.tsv\n",
      "data/SRR3722217_wgmlst_sig.tsv\n",
      "data/SRR3722125_wgmlst_sig.tsv\n"
     ]
    },
    {
     "name": "stdout",
     "output_type": "stream",
     "text": [
      "data/SRR3722110_wgmlst_sig.tsv\n",
      "data/SRR3722112_wgmlst_sig.tsv\n",
      "data/SRR3722196_wgmlst_sig.tsv\n",
      "data/SRR3722024_wgmlst_sig.tsv\n",
      "data/SRR3722056_wgmlst_sig.tsv\n"
     ]
    },
    {
     "name": "stdout",
     "output_type": "stream",
     "text": [
      "data/SRR3722072_wgmlst_sig.tsv\n",
      "data/SRR3722231_wgmlst_sig.tsv\n",
      "data/SRR3722236_wgmlst_sig.tsv\n",
      "data/SRR3721991_wgmlst_sig.tsv\n",
      "data/SRR3722140_wgmlst_sig.tsv\n",
      "data/SRR3722066_wgmlst_sig.tsv\n"
     ]
    },
    {
     "name": "stdout",
     "output_type": "stream",
     "text": [
      "data/SRR3722211_wgmlst_sig.tsv\n",
      "data/SRR3722124_wgmlst_sig.tsv\n",
      "data/SRR3722228_wgmlst_sig.tsv\n",
      "data/SRR3722190_wgmlst_sig.tsv\n",
      "data/SRR3722206_wgmlst_sig.tsv\n",
      "data/SRR3722036_wgmlst_sig.tsv\n"
     ]
    },
    {
     "name": "stdout",
     "output_type": "stream",
     "text": [
      "data/SRR3722020_wgmlst_sig.tsv\n",
      "data/SRR3722117_wgmlst_sig.tsv\n",
      "data/SRR3722116_wgmlst_sig.tsv\n",
      "data/SRR3721988_wgmlst_sig.tsv\n",
      "data/SRR3722035_wgmlst_sig.tsv\n",
      "data/SRR3722107_wgmlst_sig.tsv\n"
     ]
    },
    {
     "name": "stdout",
     "output_type": "stream",
     "text": [
      "data/SRR3722085_wgmlst_sig.tsv\n",
      "data/SRR3722180_wgmlst_sig.tsv\n",
      "data/SRR3722193_wgmlst_sig.tsv\n",
      "data/SRR3721996_wgmlst_sig.tsv\n",
      "data/SRR3722155_wgmlst_sig.tsv\n"
     ]
    },
    {
     "name": "stdout",
     "output_type": "stream",
     "text": [
      "data/SRR3722008_wgmlst_sig.tsv\n",
      "data/SRR3722222_wgmlst_sig.tsv\n",
      "data/SRR3721986_wgmlst_sig.tsv\n",
      "data/SRR3722105_wgmlst_sig.tsv\n",
      "data/SRR3722040_wgmlst_sig.tsv\n"
     ]
    }
   ],
   "source": [
    "data_matrices = list(map(file_to_matrix, file_list))\n",
    "# 241 samples, each with 1,318,020 base pairs\n"
   ]
  },
  {
   "cell_type": "code",
   "execution_count": 70,
   "metadata": {
    "autoscroll": false,
    "collapsed": false,
    "ein.tags": "worksheet-0",
    "slideshow": {
     "slide_type": "-"
    }
   },
   "outputs": [
    {
     "data": {
      "text/plain": [
       "[]"
      ]
     },
     "execution_count": 70,
     "metadata": {},
     "output_type": "execute_result"
    }
   ],
   "source": [
    "data_matrices\n"
   ]
  },
  {
   "cell_type": "code",
   "execution_count": 48,
   "metadata": {
    "autoscroll": false,
    "collapsed": false,
    "ein.tags": "worksheet-0",
    "slideshow": {
     "slide_type": "-"
    }
   },
   "outputs": [
    {
     "data": {
      "text/plain": [
       "[0,\n 1,\n 3,\n 0,\n 0,\n 0,\n 3,\n 0,\n 1,\n 3,\n 0,\n 0,\n 2,\n 3,\n 1,\n 2,\n 3,\n 2,\n 2,\n 2,\n 1,\n 0,\n 1,\n 1,\n 1,\n 3,\n 2,\n 3,\n 0,\n 0,\n 3,\n 1,\n 3,\n 3,\n 1,\n 1,\n 3,\n 2,\n 0,\n 3,\n 0,\n 3,\n 0,\n 3,\n 1,\n 0,\n 1,\n 2,\n 3,\n 0,\n 0,\n 2,\n 3,\n 3,\n 1,\n 1,\n 0,\n 0,\n 1,\n 1,\n 0,\n 1,\n 2,\n 3,\n 0,\n 2,\n 3,\n 3,\n 2,\n 3,\n 1,\n 0,\n 2,\n 1,\n 3,\n 0,\n 0,\n 3,\n 3,\n 1,\n 2,\n 3,\n 3,\n 1,\n 2,\n 0,\n 3,\n 2,\n 2,\n 3,\n 2,\n 1,\n 1,\n 2,\n 2,\n 2,\n 1,\n 2,\n 3,\n 3,\n 0,\n 0,\n 2,\n 3,\n 1,\n 2,\n 3,\n 0,\n 2,\n 1,\n 3,\n 1,\n 3,\n 1,\n 3,\n 0,\n 0,\n 0,\n 0,\n 3,\n 2,\n 1,\n 2,\n 3,\n 3,\n 2,\n 1,\n 1,\n 2,\n 1,\n 2,\n 0,\n 2,\n 3,\n 2,\n 1,\n 2,\n 2,\n 3,\n 2,\n 0,\n 2,\n 1,\n 3,\n 2,\n 3,\n 1,\n 3,\n 0,\n 0,\n 3,\n 3,\n 3,\n 2,\n 1,\n 3,\n 0,\n 2,\n 2,\n 3,\n 1,\n 3,\n 2,\n 1,\n 3,\n 2,\n 3,\n 2,\n 3,\n 3,\n 3,\n 2,\n 3,\n 2,\n 3,\n 3,\n 3,\n 0,\n 1,\n 1,\n 0,\n 1,\n 1,\n 3,\n 0,\n 0,\n 0,\n 2,\n 3,\n 3,\n 2,\n 3,\n 2,\n 0,\n 3,\n 3,\n 3,\n 1,\n 2,\n 3,\n 2,\n 3,\n 0,\n 1,\n 1,\n 2,\n 1,\n 2,\n 3,\n 1,\n 3,\n 1,\n 2,\n 3,\n 2,\n 0,\n 2,\n 3,\n 3,\n 2,\n 1,\n 1,\n 0,\n 0,\n 1,\n 2,\n 3,\n 3,\n 3,\n 1,\n 3,\n 2,\n 0,\n 3,\n 3,\n 0,\n 2,\n 0,\n 2,\n 2,\n 0,\n 3,\n 2,\n 2,\n 2,\n 3,\n 2,\n 1,\n 3,\n 0,\n 1,\n 2,\n 2,\n 0,\n 1,\n 2,\n 1,\n 3,\n 1,\n 1,\n 2,\n 0,\n 3,\n 1,\n 0,\n 2,\n 3,\n 2,\n 0,\n 3,\n 2,\n 2,\n 3,\n 2,\n 3,\n 0,\n 0,\n 2,\n 3,\n 2,\n 1,\n 3,\n 1,\n 0,\n 2,\n 3,\n 0,\n 1,\n 2,\n 1,\n 3,\n 2,\n 1,\n 2,\n 3,\n 0,\n 2,\n 3,\n 1,\n 1,\n 2,\n 3,\n 2,\n 3,\n 2,\n 0,\n 1,\n 1,\n 0,\n 2,\n 1,\n 3,\n 3,\n 0,\n 3,\n 3,\n 3,\n 2,\n 3,\n 0,\n 0,\n 1,\n 2,\n 3,\n 3,\n 2,\n 0,\n 0,\n 3,\n 3,\n 2,\n 1,\n 3,\n 3,\n 2,\n 3,\n 3,\n 2,\n 0,\n 0,\n 2,\n 3,\n 2,\n 1,\n 3,\n 3,\n 3,\n 0,\n 0,\n 2,\n 3,\n 2,\n 0,\n 3,\n 3,\n 2,\n 1,\n 3,\n 0,\n 1,\n 1,\n 1,\n 1,\n 3,\n 1,\n 1,\n 3,\n 1,\n 3,\n 0,\n 1,\n 0,\n 0,\n 2,\n 2,\n 2,\n 3,\n 2,\n 1,\n 3,\n 1,\n 1,\n 0,\n 1,\n 3,\n 0,\n 0,\n 0,\n 0,\n 0,\n 0,\n 1,\n 3,\n 2,\n 1,\n 2,\n 3,\n 2,\n 2,\n 3,\n 2,\n 2,\n 0,\n 3,\n 1,\n 3,\n 0,\n 3,\n 0,\n 0,\n 2,\n 0,\n 0,\n 2,\n 0,\n 0,\n 0,\n 3,\n 0,\n 3,\n 0,\n 1,\n 1,\n 1,\n 2,\n 3,\n 2,\n 1,\n 3,\n 0,\n 1,\n 2,\n 3,\n 0,\n 0,\n 2,\n 0,\n 1,\n 3,\n 2,\n 3,\n 2,\n 0,\n 3,\n 1,\n 1,\n 3,\n 3,\n 0,\n 1,\n 2,\n 0,\n 2,\n 3,\n 2,\n 1,\n 1,\n 1,\n 2,\n 2,\n 0,\n 1,\n 2,\n 1,\n 2,\n 3,\n 2,\n 2,\n 0,\n 1,\n 1,\n 1,\n 3,\n 1,\n 2,\n 0,\n 3,\n 3,\n 2,\n 1,\n 1,\n 2,\n 1,\n 2,\n 0,\n 2,\n 0,\n 0,\n 1,\n 2,\n 0,\n 3,\n 3,\n 1,\n 3,\n 2,\n 1,\n 3,\n 3,\n 1,\n 3,\n 1,\n 1,\n 1,\n 0,\n 2,\n 3,\n 2,\n 1,\n 3,\n 2,\n 0,\n 0,\n 1,\n 2,\n 0,\n 1,\n 1,\n 3,\n 0,\n 2,\n 2,\n 3,\n 0,\n 1,\n 2,\n 1,\n 3,\n 0,\n 1,\n 3,\n 1,\n 1,\n 1,\n 0,\n 0,\n 1,\n 1,\n 2,\n 0,\n 3,\n 1,\n 3,\n 1,\n 1,\n 1,\n 3,\n 2,\n 2,\n 0,\n 3,\n 2,\n 3,\n 1,\n 0,\n 0,\n 0,\n 1,\n 0,\n 0,\n 1,\n 2,\n 1,\n 2,\n 1,\n 0,\n 2,\n 2,\n 0,\n 1,\n 2,\n 3,\n 0,\n 2,\n 2,\n 0,\n 2,\n 0,\n 3,\n 2,\n 0,\n 0,\n 0,\n 0,\n 0,\n 0,\n 0,\n 3,\n 2,\n 0,\n 3,\n 0,\n 1,\n 2,\n 3,\n 0,\n 1,\n 2,\n 3,\n 2,\n 2,\n 0,\n 3,\n 2,\n 0,\n 1,\n 3,\n 2,\n 3,\n 2,\n 3,\n 3,\n 0,\n 1,\n 2,\n 1,\n 0,\n 2,\n 0,\n 0,\n 2,\n 3,\n 2,\n 3,\n 3,\n 1,\n 3,\n 1,\n 1,\n 3,\n 2,\n 0,\n 3,\n 2,\n 3,\n 3,\n 2,\n 1,\n 3,\n 2,\n 2,\n 3,\n 2,\n 0,\n 2,\n 3,\n 1,\n 2,\n 3,\n 2,\n 2,\n 2,\n 0,\n 3,\n 2,\n 3,\n 2,\n 3,\n 2,\n 0,\n 3,\n 2,\n 0,\n 2,\n 3,\n 2,\n 3,\n 0,\n 1,\n 2,\n 0,\n 1,\n 3,\n 1,\n 3,\n 2,\n 3,\n 3,\n 0,\n 2,\n 2,\n 3,\n 1,\n 3,\n 0,\n 0,\n 0,\n 0,\n 0,\n 3,\n 0,\n 0,\n 1,\n 2,\n 1,\n 2,\n 2,\n 0,\n 2,\n 3,\n 0,\n 1,\n 0,\n 1,\n 2,\n 3,\n 0,\n 3,\n 2,\n 1,\n 3,\n 3,\n 0,\n 0,\n 3,\n 3,\n 2,\n 2,\n 0,\n 2,\n 2,\n 0,\n 1,\n 1,\n 1,\n 3,\n 0,\n 1,\n 1,\n 2,\n 3,\n 2,\n 1,\n 2,\n 3,\n 3,\n 2,\n 3,\n 3,\n 1,\n 3,\n 2,\n 2,\n 3,\n 2,\n 1,\n 3,\n 3,\n 0,\n 3,\n 0,\n 1,\n 3,\n 0,\n 0,\n 2,\n 2,\n 1,\n 3,\n 0,\n 3,\n 1,\n 1,\n 0,\n 3]"
      ]
     },
     "execution_count": 48,
     "metadata": {},
     "output_type": "execute_result"
    }
   ],
   "source": [
    "genome_data = pd.read_csv(file_list[0], sep='\\t',\n",
    "                          names = ['foo', 'bar', 'genome'], skiprows=3)\n",
    "genome = genome_data['genome']\n",
    "# Flatten\n",
    "genome = genome.values.flatten()\n",
    "genome_len = len(genome)\n",
    "genome_vec = list(map(map_genome, list(genome[0])))\n",
    "\n",
    "\n"
   ]
  },
  {
   "cell_type": "code",
   "execution_count": 49,
   "metadata": {
    "autoscroll": false,
    "collapsed": false,
    "ein.tags": "worksheet-0",
    "slideshow": {
     "slide_type": "-"
    }
   },
   "outputs": [
    {
     "data": {
      "text/plain": [
       "['data/SRR3722097_wgmlst_sig.tsv',\n 'data/SRR3722179_wgmlst_sig.tsv',\n 'data/SRR3722138_wgmlst_sig.tsv',\n 'data/SRR3722184_wgmlst_sig.tsv',\n 'data/SRR3721971_wgmlst_sig.tsv',\n 'data/SRR3722219_wgmlst_sig.tsv',\n 'data/SRR3722114_wgmlst_sig.tsv',\n 'data/SRR3722210_wgmlst_sig.tsv',\n 'data/SRR3722132_wgmlst_sig.tsv',\n 'data/SRR3721963_wgmlst_sig.tsv',\n 'data/SRR3722199_wgmlst_sig.tsv',\n 'data/SRR3722215_wgmlst_sig.tsv',\n 'data/SRR3722216_wgmlst_sig.tsv',\n 'data/SRR3722058_wgmlst_sig.tsv',\n 'data/SRR3722103_wgmlst_sig.tsv',\n 'data/SRR3722003_wgmlst_sig.tsv',\n 'data/SRR3722135_wgmlst_sig.tsv',\n 'data/SRR3722121_wgmlst_sig.tsv',\n 'data/SRR3722034_wgmlst_sig.tsv',\n 'data/SRR3722130_wgmlst_sig.tsv',\n 'data/SRR3722082_wgmlst_sig.tsv',\n 'data/SRR3722181_wgmlst_sig.tsv',\n 'data/SRR3722051_wgmlst_sig.tsv',\n 'data/SRR3722191_wgmlst_sig.tsv',\n 'data/SRR3722086_wgmlst_sig.tsv',\n 'data/SRR3722233_wgmlst_sig.tsv',\n 'data/SRR3722192_wgmlst_sig.tsv',\n 'data/SRR3722042_wgmlst_sig.tsv',\n 'data/SRR3722127_wgmlst_sig.tsv',\n 'data/SRR3722197_wgmlst_sig.tsv',\n 'data/SRR3722048_wgmlst_sig.tsv',\n 'data/SRR3722128_wgmlst_sig.tsv',\n 'data/SRR3722234_wgmlst_sig.tsv',\n 'data/SRR3721978_wgmlst_sig.tsv',\n 'data/SRR3722122_wgmlst_sig.tsv',\n 'data/SRR3722070_wgmlst_sig.tsv',\n 'data/SRR3722188_wgmlst_sig.tsv',\n 'data/SRR3722158_wgmlst_sig.tsv',\n 'data/SRR3722016_wgmlst_sig.tsv',\n 'data/SRR3721995_wgmlst_sig.tsv',\n 'data/SRR3722120_wgmlst_sig.tsv',\n 'data/SRR3722221_wgmlst_sig.tsv',\n 'data/SRR3722146_wgmlst_sig.tsv',\n 'data/SRR3722021_wgmlst_sig.tsv',\n 'data/SRR3721974_wgmlst_sig.tsv',\n 'data/SRR3722218_wgmlst_sig.tsv',\n 'data/SRR3721968_wgmlst_sig.tsv',\n 'data/SRR3722000_wgmlst_sig.tsv',\n 'data/SRR3722014_wgmlst_sig.tsv',\n 'data/SRR3722029_wgmlst_sig.tsv',\n 'data/SRR3722098_wgmlst_sig.tsv',\n 'data/SRR3722015_wgmlst_sig.tsv',\n 'data/SRR3722185_wgmlst_sig.tsv',\n 'data/SRR3722002_wgmlst_sig.tsv',\n 'data/SRR3722090_wgmlst_sig.tsv',\n 'data/SRR3722077_wgmlst_sig.tsv',\n 'data/SRR3722154_wgmlst_sig.tsv',\n 'data/SRR3722095_wgmlst_sig.tsv',\n 'data/SRR3722030_wgmlst_sig.tsv',\n 'data/SRR3722011_wgmlst_sig.tsv',\n 'data/SRR3721997_wgmlst_sig.tsv',\n 'data/SRR3722137_wgmlst_sig.tsv',\n 'data/SRR3722064_wgmlst_sig.tsv',\n 'data/SRR3722109_wgmlst_sig.tsv',\n 'data/SRR3722189_wgmlst_sig.tsv',\n 'data/SRR3722183_wgmlst_sig.tsv',\n 'data/SRR3722053_wgmlst_sig.tsv',\n 'data/SRR3722089_wgmlst_sig.tsv',\n 'data/SRR3722022_wgmlst_sig.tsv',\n 'data/SRR3722148_wgmlst_sig.tsv',\n 'data/SRR3722230_wgmlst_sig.tsv',\n 'data/SRR3722204_wgmlst_sig.tsv',\n 'data/SRR3722157_wgmlst_sig.tsv',\n 'data/SRR3722205_wgmlst_sig.tsv',\n 'data/SRR3722049_wgmlst_sig.tsv',\n 'data/SRR3722081_wgmlst_sig.tsv',\n 'data/SRR3721965_wgmlst_sig.tsv',\n 'data/SRR3721982_wgmlst_sig.tsv',\n 'data/SRR3722224_wgmlst_sig.tsv',\n 'data/SRR3722220_wgmlst_sig.tsv',\n 'data/SRR3722203_wgmlst_sig.tsv',\n 'data/SRR3721977_wgmlst_sig.tsv',\n 'data/SRR3722152_wgmlst_sig.tsv',\n 'data/SRR3722017_wgmlst_sig.tsv',\n 'data/SRR3722099_wgmlst_sig.tsv',\n 'data/SRR3722194_wgmlst_sig.tsv',\n 'data/SRR3722083_wgmlst_sig.tsv',\n 'data/SRR3722065_wgmlst_sig.tsv',\n 'data/SRR3722004_wgmlst_sig.tsv',\n 'data/SRR3722235_wgmlst_sig.tsv',\n 'data/SRR3721990_wgmlst_sig.tsv',\n 'data/SRR3722092_wgmlst_sig.tsv',\n 'data/SRR3722209_wgmlst_sig.tsv',\n 'data/SRR3722067_wgmlst_sig.tsv',\n 'data/SRR3722111_wgmlst_sig.tsv',\n 'data/SRR3722023_wgmlst_sig.tsv',\n 'data/SRR3722005_wgmlst_sig.tsv',\n 'data/SRR3722139_wgmlst_sig.tsv',\n 'data/SRR3722100_wgmlst_sig.tsv',\n 'data/SRR3721993_wgmlst_sig.tsv',\n 'data/SRR3722134_wgmlst_sig.tsv',\n 'data/SRR3722217_wgmlst_sig.tsv',\n 'data/SRR3722125_wgmlst_sig.tsv',\n 'data/SRR3722110_wgmlst_sig.tsv',\n 'data/SRR3722112_wgmlst_sig.tsv',\n 'data/SRR3722145_wgmlst_sig.tsv',\n 'data/SRR3722196_wgmlst_sig.tsv',\n 'data/SRR3722024_wgmlst_sig.tsv',\n 'data/SRR3722056_wgmlst_sig.tsv',\n 'data/SRR3722072_wgmlst_sig.tsv',\n 'data/SRR3722231_wgmlst_sig.tsv',\n 'data/SRR3722236_wgmlst_sig.tsv',\n 'data/SRR3721991_wgmlst_sig.tsv',\n 'data/SRR3722140_wgmlst_sig.tsv',\n 'data/SRR3722066_wgmlst_sig.tsv',\n 'data/SRR3722211_wgmlst_sig.tsv',\n 'data/SRR3722124_wgmlst_sig.tsv',\n 'data/SRR3722228_wgmlst_sig.tsv',\n 'data/SRR3722190_wgmlst_sig.tsv',\n 'data/SRR3722206_wgmlst_sig.tsv',\n 'data/SRR3722036_wgmlst_sig.tsv',\n 'data/SRR3722020_wgmlst_sig.tsv',\n 'data/SRR3722117_wgmlst_sig.tsv',\n 'data/SRR3722116_wgmlst_sig.tsv',\n 'data/SRR3721988_wgmlst_sig.tsv',\n 'data/SRR3722035_wgmlst_sig.tsv',\n 'data/SRR3722107_wgmlst_sig.tsv',\n 'data/SRR3722085_wgmlst_sig.tsv',\n 'data/SRR3722180_wgmlst_sig.tsv',\n 'data/SRR3722193_wgmlst_sig.tsv',\n 'data/SRR3721996_wgmlst_sig.tsv',\n 'data/SRR3722155_wgmlst_sig.tsv',\n 'data/SRR3722008_wgmlst_sig.tsv',\n 'data/SRR3722222_wgmlst_sig.tsv',\n 'data/SRR3721986_wgmlst_sig.tsv',\n 'data/SRR3722105_wgmlst_sig.tsv',\n 'data/SRR3722040_wgmlst_sig.tsv',\n 'data/SRR3722001_wgmlst_sig.tsv',\n 'data/SRR3722033_wgmlst_sig.tsv',\n 'data/SRR3721975_wgmlst_sig.tsv',\n 'data/SRR3722106_wgmlst_sig.tsv',\n 'data/SRR3722043_wgmlst_sig.tsv',\n 'data/SRR3722044_wgmlst_sig.tsv',\n 'data/SRR3722057_wgmlst_sig.tsv',\n 'data/SRR3722087_wgmlst_sig.tsv',\n 'data/SRR3722213_wgmlst_sig.tsv',\n 'data/SRR3722186_wgmlst_sig.tsv',\n 'data/SRR3722201_wgmlst_sig.tsv',\n 'data/SRR3722141_wgmlst_sig.tsv',\n 'data/SRR3722143_wgmlst_sig.tsv',\n 'data/SRR3722101_wgmlst_sig.tsv',\n 'data/SRR3722115_wgmlst_sig.tsv',\n 'data/SRR3722232_wgmlst_sig.tsv',\n 'data/SRR3722226_wgmlst_sig.tsv',\n 'data/SRR3722074_wgmlst_sig.tsv',\n 'data/SRR3722079_wgmlst_sig.tsv',\n 'data/SRR3721976_wgmlst_sig.tsv',\n 'data/SRR3722084_wgmlst_sig.tsv',\n 'data/SRR3722202_wgmlst_sig.tsv',\n 'data/SRR3722006_wgmlst_sig.tsv',\n 'data/SRR3722078_wgmlst_sig.tsv',\n 'data/SRR3722063_wgmlst_sig.tsv',\n 'data/SRR3721984_wgmlst_sig.tsv',\n 'data/SRR3722225_wgmlst_sig.tsv',\n 'data/SRR3721985_wgmlst_sig.tsv',\n 'data/SRR3722108_wgmlst_sig.tsv',\n 'data/SRR3722025_wgmlst_sig.tsv',\n 'data/SRR3722119_wgmlst_sig.tsv',\n 'data/SRR3722009_wgmlst_sig.tsv',\n 'data/SRR3722229_wgmlst_sig.tsv',\n 'data/SRR3722156_wgmlst_sig.tsv',\n 'data/SRR3722041_wgmlst_sig.tsv',\n 'data/SRR3722214_wgmlst_sig.tsv',\n 'data/SRR3722133_wgmlst_sig.tsv',\n 'data/SRR3722123_wgmlst_sig.tsv',\n 'data/SRR3722151_wgmlst_sig.tsv',\n 'data/SRR3722207_wgmlst_sig.tsv',\n 'data/SRR3722102_wgmlst_sig.tsv',\n 'data/SRR3721979_wgmlst_sig.tsv',\n 'data/SRR3722012_wgmlst_sig.tsv',\n 'data/SRR3722093_wgmlst_sig.tsv',\n 'data/SRR3722153_wgmlst_sig.tsv',\n 'data/SRR3722094_wgmlst_sig.tsv',\n 'data/SRR3721992_wgmlst_sig.tsv',\n 'data/SRR3722013_wgmlst_sig.tsv',\n 'data/SRR3722136_wgmlst_sig.tsv',\n 'data/SRR3722027_wgmlst_sig.tsv',\n 'data/SRR3721983_wgmlst_sig.tsv',\n 'data/SRR3722118_wgmlst_sig.tsv',\n 'data/SRR3722212_wgmlst_sig.tsv',\n 'data/SRR3722147_wgmlst_sig.tsv',\n 'data/SRR3722223_wgmlst_sig.tsv',\n 'data/SRR3721980_wgmlst_sig.tsv',\n 'data/SRR3722113_wgmlst_sig.tsv',\n 'data/SRR3721987_wgmlst_sig.tsv',\n 'data/SRR3722037_wgmlst_sig.tsv',\n 'data/SRR3722200_wgmlst_sig.tsv',\n 'data/SRR3722149_wgmlst_sig.tsv',\n 'data/SRR3722010_wgmlst_sig.tsv',\n 'data/SRR3722198_wgmlst_sig.tsv',\n 'data/SRR3721964_wgmlst_sig.tsv',\n 'data/SRR3722187_wgmlst_sig.tsv',\n 'data/SRR3722038_wgmlst_sig.tsv',\n 'data/SRR3722088_wgmlst_sig.tsv',\n 'data/SRR3722060_wgmlst_sig.tsv',\n 'data/SRR3722068_wgmlst_sig.tsv',\n 'data/SRR3721994_wgmlst_sig.tsv',\n 'data/SRR3722071_wgmlst_sig.tsv',\n 'data/SRR3722031_wgmlst_sig.tsv',\n 'data/SRR3722091_wgmlst_sig.tsv',\n 'data/SRR3722131_wgmlst_sig.tsv',\n 'data/SRR3722019_wgmlst_sig.tsv',\n 'data/SRR3722052_wgmlst_sig.tsv',\n 'data/SRR3722195_wgmlst_sig.tsv',\n 'data/SRR3722018_wgmlst_sig.tsv',\n 'data/SRR3722039_wgmlst_sig.tsv',\n 'data/SRR3721973_wgmlst_sig.tsv',\n 'data/SRR3722007_wgmlst_sig.tsv',\n 'data/SRR3722076_wgmlst_sig.tsv',\n 'data/SRR3721998_wgmlst_sig.tsv',\n 'data/SRR3722096_wgmlst_sig.tsv',\n 'data/SRR3722182_wgmlst_sig.tsv',\n 'data/SRR3722028_wgmlst_sig.tsv',\n 'data/SRR3722032_wgmlst_sig.tsv',\n 'data/SRR3721981_wgmlst_sig.tsv',\n 'data/SRR3722026_wgmlst_sig.tsv',\n 'data/SRR3722126_wgmlst_sig.tsv',\n 'data/SRR3722047_wgmlst_sig.tsv',\n 'data/SRR3722073_wgmlst_sig.tsv',\n 'data/SRR3722104_wgmlst_sig.tsv',\n 'data/SRR3722150_wgmlst_sig.tsv',\n 'data/SRR3721989_wgmlst_sig.tsv',\n 'data/SRR3722055_wgmlst_sig.tsv',\n 'data/SRR3722059_wgmlst_sig.tsv',\n 'data/SRR3722208_wgmlst_sig.tsv',\n 'data/SRR3721999_wgmlst_sig.tsv',\n 'data/SRR3722050_wgmlst_sig.tsv',\n 'data/SRR3722045_wgmlst_sig.tsv',\n 'data/SRR3722129_wgmlst_sig.tsv',\n 'data/SRR3722142_wgmlst_sig.tsv',\n 'data/SRR3722062_wgmlst_sig.tsv']"
      ]
     },
     "execution_count": 49,
     "metadata": {},
     "output_type": "execute_result"
    }
   ],
   "source": [
    "file_list"
   ]
  },
  {
   "cell_type": "code",
   "execution_count": 39,
   "metadata": {
    "autoscroll": false,
    "collapsed": false,
    "ein.tags": "worksheet-0",
    "slideshow": {
     "slide_type": "-"
    }
   },
   "outputs": [
    {
     "data": {
      "text/plain": [
       "[0,\n 1,\n 3,\n 3,\n 2,\n 1,\n 3,\n 2,\n 2,\n 0,\n 1,\n 1,\n 0,\n 0,\n 1,\n 0,\n 2,\n 3,\n 0,\n 0,\n 0,\n 3,\n 1,\n 2,\n 0,\n 0,\n 0,\n 0,\n 0,\n 0,\n 3,\n 2,\n 2,\n 3,\n 1,\n 1,\n 0,\n 1,\n 2,\n 2,\n 2,\n 2,\n 3,\n 1,\n 1,\n 3,\n 2,\n 3,\n 3,\n 3,\n 0,\n 1,\n 1,\n 0,\n 3,\n 3,\n 0,\n 0,\n 2,\n 2,\n 0,\n 3,\n 3,\n 0,\n 1,\n 3,\n 1,\n 1,\n 3,\n 2,\n 2,\n 3,\n 3,\n 2,\n 3,\n 0,\n 2,\n 3,\n 0,\n 0,\n 0,\n 3,\n 2,\n 2,\n 0,\n 1,\n 2,\n 2,\n 2,\n 3,\n 0,\n 0,\n 0,\n 3,\n 0,\n 3,\n 0,\n 1,\n 3,\n 2,\n 1,\n 3,\n 2,\n 2,\n 0,\n 2,\n 1,\n 1,\n 3,\n 1,\n 2,\n 3,\n 0,\n 1,\n 0,\n 0,\n 3,\n 2,\n 2,\n 0,\n 1,\n 1,\n 0,\n 0,\n 1,\n 1,\n 2,\n 0,\n 0,\n 1,\n 0,\n 2,\n 3,\n 1,\n 2,\n 3,\n 1,\n 3,\n 0,\n 0,\n 1,\n 3,\n 0,\n 0,\n 1,\n 3,\n 1,\n 0,\n 1,\n 1,\n 3,\n 2,\n 3,\n 3,\n 2,\n 1,\n 3,\n 3,\n 2,\n 0,\n 1,\n 1,\n 0,\n 2,\n 1,\n 3,\n 0,\n 0,\n 0,\n 1,\n 1,\n 3,\n 1,\n 3,\n 2,\n 1,\n 3,\n 3,\n 1,\n 1,\n 0,\n 2,\n 0,\n 2,\n 0,\n 2,\n 1,\n 2,\n 0,\n 1,\n 2,\n 1,\n 0,\n 0,\n 0,\n 0,\n 0,\n 2,\n 1,\n 2,\n 1,\n 0,\n 1,\n 1,\n 3,\n 0,\n 0,\n 0,\n 0,\n 2,\n 2,\n 0,\n 2,\n 1,\n 1,\n 1,\n 3,\n 0,\n 1,\n 0,\n 2,\n 2,\n 0,\n 3,\n 1,\n 1,\n 1,\n 1,\n 3,\n 0,\n 0,\n 2,\n 1,\n 3,\n 3,\n 0,\n 0,\n 3,\n 2,\n 0,\n 0,\n 1,\n 3,\n 2,\n 1,\n 3,\n 3,\n 0,\n 0,\n 0,\n 0,\n 0,\n 2,\n 3,\n 1,\n 3,\n 1,\n 0,\n 0,\n 0,\n 0,\n 2,\n 3,\n 1,\n 2,\n 0,\n 0,\n 2,\n 1,\n 3,\n 2,\n 1,\n 1,\n 3,\n 0,\n 1,\n 3,\n 0,\n 0,\n 3,\n 1,\n 3,\n 2,\n 0,\n 3,\n 1,\n 2,\n 1,\n 0,\n 1,\n 1,\n 1,\n 3,\n 1,\n 2,\n 2,\n 0,\n 2,\n 2,\n 3,\n 2,\n 0,\n 2,\n 3,\n 1,\n 3,\n 0,\n 2,\n 1,\n 0,\n 1,\n 1,\n 0,\n 1,\n 3,\n 2,\n 0,\n 0,\n 3,\n 1,\n 1,\n 2,\n 3,\n 1,\n 2,\n 0,\n 3,\n 3,\n 3,\n 1,\n 2,\n 1,\n 3,\n 3,\n 2,\n 3,\n 0,\n 0,\n 0,\n 3,\n 3,\n 2,\n 2,\n 1,\n 3,\n 3,\n 3,\n 0,\n 2,\n 0,\n 2,\n 3,\n 2,\n 3,\n 3,\n 1,\n 0,\n 1,\n 1,\n 3,\n 1,\n 3,\n 1,\n 3,\n 2,\n 1,\n 2,\n 0,\n 2,\n 2,\n 2,\n 3,\n 3,\n 1,\n 0,\n 3,\n 1,\n 3,\n 3,\n 3,\n 1,\n 3,\n 0,\n 1,\n 3,\n 0,\n 0,\n 2,\n 2,\n 3,\n 3,\n 1,\n 0,\n 3,\n 2,\n 1,\n 3,\n 1,\n 1,\n 0,\n 1,\n 1,\n 1,\n 1,\n 3,\n 2,\n 2,\n 1,\n 3,\n 0,\n 1,\n 3,\n 1,\n 1,\n 0,\n 1,\n 1,\n 2,\n 1,\n 3,\n 3,\n 0,\n 1,\n 3,\n 0,\n 0,\n 1,\n 0,\n 1,\n 3,\n 0,\n 0,\n 1,\n 2,\n 2,\n 3,\n 0,\n 1,\n 1,\n 1,\n 3,\n 1,\n 2,\n 0,\n 2,\n 0,\n 3,\n 3,\n 0,\n 1,\n 0,\n 0,\n 2,\n 2,\n 1,\n 3,\n 3,\n 2,\n 0,\n 3,\n 0,\n 3,\n 0,\n 1,\n 3,\n 0,\n 1,\n 2,\n 2,\n 3,\n 2,\n 2,\n 3,\n 2,\n 1,\n 1,\n 1,\n 3,\n 0,\n 1,\n 3,\n 0,\n 0,\n 0,\n 2,\n 3,\n 3,\n 3,\n 1,\n 2,\n 0,\n 1,\n 0,\n 3,\n 2,\n 2,\n 0,\n 3,\n 0,\n 1,\n 2,\n 0,\n 1,\n 3,\n 3,\n 1,\n 1,\n 3,\n 0,\n 0,\n 2,\n 2,\n 3,\n 3,\n 1,\n 1,\n 3,\n 2,\n 1,\n 3,\n 0,\n 1,\n 3,\n 1,\n 3,\n 0,\n 2,\n 2,\n 3,\n 2,\n 0,\n 1,\n 0,\n 1,\n 3,\n 3,\n 2,\n 3,\n 1,\n 1,\n 3,\n 1,\n 3,\n 3,\n 0,\n 1,\n 1,\n 3,\n 2,\n 0,\n 0,\n 0,\n 3,\n 3,\n 2,\n 3,\n 1,\n 1,\n 3,\n 0,\n 0,\n 1,\n 1,\n 0,\n 3,\n 2,\n 3,\n 2,\n 2,\n 3,\n 3,\n 3,\n 1,\n 3,\n 0,\n 0,\n 0,\n 3,\n 2,\n 3,\n 1,\n 0,\n 2,\n 2,\n 3,\n 0,\n 1,\n 3,\n 3,\n 1,\n 1,\n 3,\n 3,\n 1,\n 3,\n 1,\n 3,\n 3,\n 1,\n 0,\n 3,\n 0,\n 0,\n 0,\n 0,\n 0,\n 2,\n 2,\n 3,\n 0,\n 0,\n 0,\n 3,\n 2,\n 3,\n 3,\n 0,\n 1,\n 3,\n 1,\n 1,\n 3,\n 2,\n 3,\n 2,\n 2,\n 3,\n 1,\n 2,\n 1,\n 0,\n 0,\n 1,\n 2,\n 1,\n 2,\n 3,\n 2,\n 1,\n 0,\n 1,\n 1,\n 3,\n 1,\n 3,\n 3,\n 3,\n 1,\n 2,\n 3,\n 1,\n 1,\n 0,\n 2,\n 3,\n 1,\n 0,\n 2,\n 1,\n 1,\n 0,\n 3,\n 2,\n 3,\n 2,\n 3,\n 3,\n 0,\n 1,\n 0,\n 1,\n 1,\n 1,\n 3,\n 3,\n 2,\n 2,\n 3,\n 1,\n 1,\n 3,\n 2,\n 1,\n 3,\n 3,\n 2,\n 0,\n 0,\n 0,\n 0,\n 0,\n 2,\n 2,\n 2,\n 2,\n 1,\n 2,\n 2,\n 3,\n 3,\n 3,\n 0,\n 3,\n 2,\n 1,\n 3,\n 3,\n 1,\n 3,\n 0,\n 1,\n 3,\n 0,\n 0,\n 0,\n 1,\n 1,\n 2,\n 0,\n 3,\n 2,\n 1,\n 2,\n 0,\n 2,\n 2,\n 3,\n 0,\n 2,\n 3,\n 2,\n 0,\n 0,\n 1,\n 1,\n 3,\n 0,\n 1,\n 0,\n 1,\n 3,\n 2,\n 1,\n 3,\n 0,\n 1,\n 2,\n 3,\n 0,\n 0,\n 0,\n 0,\n 0,\n 3,\n 0,\n 0,\n 0,\n 2,\n 3,\n 3,\n 1,\n 3,\n 3,\n 0,\n 0,\n 3,\n 2,\n 2,\n 1,\n 0,\n 1,\n 2,\n 0,\n 1,\n 0,\n 1,\n 3,\n 0,\n 0,\n 0,\n 3,\n 3,\n 3,\n 0,\n 0,\n 3,\n 0,\n 3,\n 2,\n 2,\n 0,\n 1,\n 3,\n 0,\n 2,\n 1,\n 3,\n 2,\n 3,\n 3,\n 1,\n 0,\n 0,\n 1,\n 0,\n 0,\n 0,\n 1,\n 1,\n 0,\n 3,\n 3,\n 1,\n 1,\n 0,\n 2,\n 0,\n 1,\n 3,\n 2,\n 0,\n 3,\n 3,\n 2,\n 2,\n 1,\n 1,\n 2,\n 3,\n 1,\n 1,\n 3,\n 0,\n 0,\n 1,\n 0,\n 2,\n 3,\n 3,\n 1,\n 0,\n 1,\n 1,\n 2,\n 3,\n 1,\n 2,\n 0,\n 1,\n 0,\n 0,\n 2,\n 0,\n 2,\n 2,\n 2,\n 1,\n 1,\n 3,\n 3,\n 2,\n 0,\n 2,\n 3,\n 3,\n 0,\n 0,\n 1,\n 1,\n 1,\n 0,\n 0,\n 0,\n 3,\n 2,\n 2,\n 1,\n 3,\n 3,\n 2,\n 1,\n 1,\n 3,\n 0,\n 0,\n 3,\n 0,\n 0,\n 3,\n 0,\n 3,\n 0,\n 1,\n 3,\n 3,\n 3,\n 2,\n 0,\n 1,\n 1,\n 0,\n 0,\n 3,\n 0,\n 0,\n 3,\n 1,\n 0,\n 0]"
      ]
     },
     "execution_count": 39,
     "metadata": {},
     "output_type": "execute_result"
    }
   ],
   "source": [
    "genome_vec"
   ]
  },
  {
   "cell_type": "code",
   "execution_count": 9,
   "metadata": {
    "autoscroll": false,
    "collapsed": false,
    "ein.tags": "worksheet-0",
    "slideshow": {
     "slide_type": "-"
    }
   },
   "outputs": [
    {
     "ename": "IndexError",
     "evalue": "list index out of range",
     "output_type": "error",
     "traceback": [
      "\u001b[0;31m\u001b[0m",
      "\u001b[0;31mIndexError\u001b[0mTraceback (most recent call last)",
      "\u001b[0;32m<ipython-input-9-3e1a0c6e5053>\u001b[0m in \u001b[0;36m<module>\u001b[0;34m()\u001b[0m\n\u001b[0;32m----> 1\u001b[0;31m \u001b[0mdata_matrices\u001b[0m\u001b[0;34m[\u001b[0m\u001b[0;36m0\u001b[0m\u001b[0;34m]\u001b[0m\u001b[0;34m\u001b[0m\u001b[0m\n\u001b[0m",
      "\u001b[0;31mIndexError\u001b[0m: list index out of range"
     ]
    }
   ],
   "source": [
    "data_matrices[0]"
   ]
  },
  {
   "cell_type": "code",
   "execution_count": 4,
   "metadata": {
    "autoscroll": false,
    "collapsed": false,
    "ein.tags": "worksheet-0",
    "slideshow": {
     "slide_type": "-"
    }
   },
   "outputs": [],
   "source": [
    "clf = RandomForestClassifier(n_estimators=500)\n",
    "clf.fit(X_train, y_train)"
   ]
  },
  {
   "cell_type": "code",
   "execution_count": null,
   "metadata": {
    "autoscroll": false,
    "collapsed": false,
    "ein.tags": "worksheet-0",
    "slideshow": {
     "slide_type": "-"
    }
   },
   "outputs": [],
   "source": [
    "# Test and check accuracy\n",
    "print(clf.score(X_test, y_test)"
   ]
  }
 ],
 "metadata": {
  "name": "Test_RF.ipynb"
 },
 "nbformat": 4,
 "nbformat_minor": 2
}
