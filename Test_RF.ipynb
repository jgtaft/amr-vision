{
 "cells": [
  {
   "cell_type": "code",
   "execution_count": 29,
   "metadata": {
    "autoscroll": false,
    "collapsed": false,
    "ein.tags": "worksheet-0",
    "slideshow": {
     "slide_type": "-"
    }
   },
   "outputs": [],
   "source": [
    "import numpy as np\n",
    "import pandas as pd\n",
    "import re\n",
    "from sklearn.model_selection import train_test_split\n",
    "from sklearn.ensemble import RandomForestClassifier\n",
    "import datetime\n",
    "import matplotlib.pyplot as plt\n",
    "from sklearn.ensemble import RandomForestRegressor, RandomForestClassifier\n",
    "import matplotlib\n",
    "#matplotlib.rcParams.update({'font.size': 16})\n",
    "import matplotlib.ticker as mtick"
   ]
  },
  {
   "cell_type": "code",
   "execution_count": 2,
   "metadata": {
    "autoscroll": false,
    "collapsed": false,
    "ein.tags": "worksheet-0",
    "slideshow": {
     "slide_type": "-"
    }
   },
   "outputs": [],
   "source": [
    "import glob\n",
    "file_list = glob.glob(\"data/*.tsv\")\n",
    "bad_files = ['data/SRR3722077_wgmlst_sig.tsv', 'data/SRR3722081_wgmlst_sig.tsv',\n",
    "             'data/SRR3722145_wgmlst_sig.tsv']\n",
    "file_list = list(filter(lambda x: x not in bad_files, file_list))\n",
    "assert(file_list != [])"
   ]
  },
  {
   "cell_type": "code",
   "execution_count": 3,
   "metadata": {
    "autoscroll": false,
    "collapsed": false,
    "ein.tags": "worksheet-0",
    "slideshow": {
     "slide_type": "-"
    }
   },
   "outputs": [],
   "source": [
    "sample_info = pd.read_csv(\"sample_info.txt\", sep='\\t', names=[\"SRX\", \"SRR\", \"SAMPLE\"])\n",
    "\n",
    "srr_to_man_sample = {sample_info[\"SRR\"][i]: sample_info[\"SAMPLE\"][i]\n",
    "                 for i in range(len(sample_info)) if \"Manifold\" in\n",
    "                 sample_info[\"SAMPLE\"][i] }\n",
    "\n",
    "good_numbers = [163, 164, 166, 167, 189, 190, 196, 201, 202, 203, 204, 191, 192, 212, 213, 214, 215, 216, 193, 187, 188, 171, 179, 178]\n",
    "digit = re.compile(\"[0-9]*$\")\n",
    "srr_to_man_sample_zeros = {list(srr_to_man_sample.keys())[i]: list(srr_to_man_sample.values())[i]\n",
    "                           for i in range(len(srr_to_man_sample)) if int(digit.search(list(srr_to_man_sample.values())[i]).group(0)) in good_numbers}\n",
    "\n",
    "srr_to_sym_sample = {sample_info[\"SRR\"][i]: sample_info[\"SAMPLE\"][i]\n",
    "                 for i in range(len(sample_info)) if \"Manifold\" not in\n",
    "                     sample_info[\"SAMPLE\"][i]}\n",
    "del(srr_to_sym_sample['SRR3722117'])"
   ]
  },
  {
   "cell_type": "code",
   "execution_count": 4,
   "metadata": {
    "autoscroll": false,
    "collapsed": false,
    "ein.tags": "worksheet-0",
    "slideshow": {
     "slide_type": "-"
    }
   },
   "outputs": [],
   "source": [
    "samples = dict(list(srr_to_sym_sample.items()) + list(srr_to_man_sample_zeros.items()))\n",
    "labels = np.hstack((np.zeros(24), np.array([300, 300, 3000, 3000, 3000, 3000, 3000, 3000,\n",
    "                   3000, 3000, 3000, 3000, 300, 3000, 3000, 3000, 3000, 3000, 3000, 3000])))"
   ]
  },
  {
   "cell_type": "code",
   "execution_count": 5,
   "metadata": {
    "autoscroll": false,
    "collapsed": false,
    "ein.tags": "worksheet-0",
    "slideshow": {
     "slide_type": "-"
    }
   },
   "outputs": [],
   "source": [
    "names = list(map(lambda sample: \"data/\" + sample + \"_wgmlst_sig.tsv\", samples.keys()))"
   ]
  },
  {
   "cell_type": "code",
   "execution_count": 6,
   "metadata": {
    "autoscroll": false,
    "collapsed": false,
    "ein.tags": "worksheet-0",
    "slideshow": {
     "slide_type": "-"
    }
   },
   "outputs": [],
   "source": [
    "sample_filenames = list(filter(lambda fn: fn in names, file_list))"
   ]
  },
  {
   "cell_type": "code",
   "execution_count": 18,
   "metadata": {
    "autoscroll": false,
    "collapsed": false,
    "ein.tags": "worksheet-0",
    "slideshow": {
     "slide_type": "-"
    }
   },
   "outputs": [],
   "source": [
    "bpmap = {\"A\": 0, \"T\": 1, \"C\": 2, \"G\": 3}\n",
    "unbpmap = [\"A\", \"T\", \"C\", \"G\"]\n",
    "def map_genome(base_pair):\n",
    "    return bpmap[base_pair]\n",
    "\n",
    "def unmap_genome(bp_num):\n",
    "    return unbpmap[bp_num]\n",
    "\n",
    "# Go from file name to list of length 3994, each entry w/ 330 base pair sequence\n",
    "def file_to_matrix(file_name):\n",
    "    genome_data = pd.read_csv(file_name, sep='\\t',\n",
    "                              names = ['foo', 'bar', 'genome'], skiprows=3)\n",
    "    genome = genome_data['genome']\n",
    "    # Flatten\n",
    "    genome = genome.values.flatten()\n",
    "    genome_len = len(genome)\n",
    "    genome_vec = list(map(map_genome, list(\"\".join(genome))))\n",
    "    print(file_name)\n",
    "    return genome_vec"
   ]
  },
  {
   "cell_type": "code",
   "execution_count": 8,
   "metadata": {
    "autoscroll": false,
    "collapsed": false,
    "ein.tags": "worksheet-0",
    "slideshow": {
     "slide_type": "-"
    }
   },
   "outputs": [
    {
     "name": "stdout",
     "output_type": "stream",
     "text": [
      "data/SRR3722097_wgmlst_sig.tsv\n"
     ]
    },
    {
     "name": "stdout",
     "output_type": "stream",
     "text": [
      "data/SRR3722138_wgmlst_sig.tsv\n"
     ]
    },
    {
     "name": "stdout",
     "output_type": "stream",
     "text": [
      "data/SRR3722132_wgmlst_sig.tsv\n"
     ]
    },
    {
     "name": "stdout",
     "output_type": "stream",
     "text": [
      "data/SRR3722135_wgmlst_sig.tsv\n"
     ]
    },
    {
     "name": "stdout",
     "output_type": "stream",
     "text": [
      "data/SRR3722121_wgmlst_sig.tsv\n"
     ]
    },
    {
     "name": "stdout",
     "output_type": "stream",
     "text": [
      "data/SRR3722034_wgmlst_sig.tsv\n"
     ]
    },
    {
     "name": "stdout",
     "output_type": "stream",
     "text": [
      "data/SRR3722130_wgmlst_sig.tsv\n"
     ]
    },
    {
     "name": "stdout",
     "output_type": "stream",
     "text": [
      "data/SRR3722051_wgmlst_sig.tsv\n"
     ]
    },
    {
     "name": "stdout",
     "output_type": "stream",
     "text": [
      "data/SRR3722086_wgmlst_sig.tsv\n"
     ]
    },
    {
     "name": "stdout",
     "output_type": "stream",
     "text": [
      "data/SRR3722127_wgmlst_sig.tsv\n"
     ]
    },
    {
     "name": "stdout",
     "output_type": "stream",
     "text": [
      "data/SRR3722128_wgmlst_sig.tsv\n"
     ]
    },
    {
     "name": "stdout",
     "output_type": "stream",
     "text": [
      "data/SRR3722122_wgmlst_sig.tsv\n"
     ]
    },
    {
     "name": "stdout",
     "output_type": "stream",
     "text": [
      "data/SRR3722070_wgmlst_sig.tsv\n"
     ]
    },
    {
     "name": "stdout",
     "output_type": "stream",
     "text": [
      "data/SRR3722120_wgmlst_sig.tsv\n"
     ]
    },
    {
     "name": "stdout",
     "output_type": "stream",
     "text": [
      "data/SRR3722098_wgmlst_sig.tsv\n"
     ]
    },
    {
     "name": "stdout",
     "output_type": "stream",
     "text": [
      "data/SRR3722095_wgmlst_sig.tsv\n"
     ]
    },
    {
     "name": "stdout",
     "output_type": "stream",
     "text": [
      "data/SRR3722064_wgmlst_sig.tsv\n"
     ]
    },
    {
     "name": "stdout",
     "output_type": "stream",
     "text": [
      "data/SRR3722099_wgmlst_sig.tsv\n"
     ]
    },
    {
     "name": "stdout",
     "output_type": "stream",
     "text": [
      "data/SRR3722083_wgmlst_sig.tsv\n"
     ]
    },
    {
     "name": "stdout",
     "output_type": "stream",
     "text": [
      "data/SRR3722065_wgmlst_sig.tsv\n"
     ]
    },
    {
     "name": "stdout",
     "output_type": "stream",
     "text": [
      "data/SRR3722139_wgmlst_sig.tsv\n"
     ]
    },
    {
     "name": "stdout",
     "output_type": "stream",
     "text": [
      "data/SRR3722134_wgmlst_sig.tsv\n"
     ]
    },
    {
     "name": "stdout",
     "output_type": "stream",
     "text": [
      "data/SRR3722125_wgmlst_sig.tsv\n"
     ]
    },
    {
     "name": "stdout",
     "output_type": "stream",
     "text": [
      "data/SRR3722066_wgmlst_sig.tsv\n"
     ]
    },
    {
     "name": "stdout",
     "output_type": "stream",
     "text": [
      "data/SRR3722124_wgmlst_sig.tsv\n"
     ]
    },
    {
     "name": "stdout",
     "output_type": "stream",
     "text": [
      "data/SRR3722035_wgmlst_sig.tsv\n"
     ]
    },
    {
     "name": "stdout",
     "output_type": "stream",
     "text": [
      "data/SRR3722085_wgmlst_sig.tsv\n"
     ]
    },
    {
     "name": "stdout",
     "output_type": "stream",
     "text": [
      "data/SRR3722043_wgmlst_sig.tsv\n"
     ]
    },
    {
     "name": "stdout",
     "output_type": "stream",
     "text": [
      "data/SRR3722074_wgmlst_sig.tsv\n"
     ]
    },
    {
     "name": "stdout",
     "output_type": "stream",
     "text": [
      "data/SRR3722084_wgmlst_sig.tsv\n"
     ]
    },
    {
     "name": "stdout",
     "output_type": "stream",
     "text": [
      "data/SRR3722063_wgmlst_sig.tsv\n"
     ]
    },
    {
     "name": "stdout",
     "output_type": "stream",
     "text": [
      "data/SRR3722119_wgmlst_sig.tsv\n"
     ]
    },
    {
     "name": "stdout",
     "output_type": "stream",
     "text": [
      "data/SRR3722133_wgmlst_sig.tsv\n"
     ]
    },
    {
     "name": "stdout",
     "output_type": "stream",
     "text": [
      "data/SRR3722123_wgmlst_sig.tsv\n"
     ]
    },
    {
     "name": "stdout",
     "output_type": "stream",
     "text": [
      "data/SRR3722136_wgmlst_sig.tsv\n"
     ]
    },
    {
     "name": "stdout",
     "output_type": "stream",
     "text": [
      "data/SRR3722118_wgmlst_sig.tsv\n"
     ]
    },
    {
     "name": "stdout",
     "output_type": "stream",
     "text": [
      "data/SRR3722037_wgmlst_sig.tsv\n"
     ]
    },
    {
     "name": "stdout",
     "output_type": "stream",
     "text": [
      "data/SRR3722038_wgmlst_sig.tsv\n"
     ]
    },
    {
     "name": "stdout",
     "output_type": "stream",
     "text": [
      "data/SRR3722068_wgmlst_sig.tsv\n"
     ]
    },
    {
     "name": "stdout",
     "output_type": "stream",
     "text": [
      "data/SRR3722071_wgmlst_sig.tsv\n"
     ]
    },
    {
     "name": "stdout",
     "output_type": "stream",
     "text": [
      "data/SRR3722131_wgmlst_sig.tsv\n"
     ]
    },
    {
     "name": "stdout",
     "output_type": "stream",
     "text": [
      "data/SRR3722052_wgmlst_sig.tsv\n"
     ]
    },
    {
     "name": "stdout",
     "output_type": "stream",
     "text": [
      "data/SRR3722096_wgmlst_sig.tsv\n"
     ]
    },
    {
     "name": "stdout",
     "output_type": "stream",
     "text": [
      "data/SRR3722129_wgmlst_sig.tsv\n"
     ]
    }
   ],
   "source": [
    "data_matrices = list(map(file_to_matrix, sample_filenames))\n",
    "# 241 samples, each with 1,318,020 base pairs\n"
   ]
  },
  {
   "cell_type": "code",
   "execution_count": 30,
   "metadata": {
    "autoscroll": false,
    "collapsed": false,
    "ein.tags": "worksheet-0",
    "slideshow": {
     "slide_type": "-"
    }
   },
   "outputs": [
    {
     "name": "stdout",
     "output_type": "stream",
     "text": [
      "0 0.0\n",
      "[0. 0. 0. 0. 0. 0.]\n"
     ]
    }
   ],
   "source": [
    "\n",
    "\n",
    "for i in range(1):\n",
    "    chopped = list(map(lambda m: m[int(3e6)*i:int(3e6)*(i+1)], data_matrices))\n",
    "    chopped = np.array(chopped)\n",
    "    xTr, xVa = chopped[:38], chopped[38:]\n",
    "    yTr, yVa = labels[:38], labels[38:]\n",
    "\n",
    "\n",
    "    rf = RandomForestClassifier()\n",
    "    rf.fit(xTr, yTr)\n",
    "    print(i, rf.score(xVa, yVa))\n",
    "    print(rf.predict(xVa))\n",
    "\n",
    "    fig, ax = plt.subplots(figsize=(6,6))\n",
    "    plt.plot(rf.feature_importances_*100)\n",
    "    plt.xlabel('Location in Genome')\n",
    "    plt.ylabel('Importance of Mutation for Resistance')\n",
    "\n",
    "    fmt = '%.0f%%' # Format you want the ticks, e.g. '40%'\n",
    "    yticks = mtick.FormatStrFormatter(fmt)\n",
    "    ax.yaxis.set_major_formatter(yticks)\n",
    "\n",
    "    plt.tight_layout()\n",
    "    plt.savefig('ft_importances/' + str(datetime.datetime.now()) + \"_\" + str(i) + \".png\")\n",
    "    plt.close()"
   ]
  },
  {
   "cell_type": "code",
   "execution_count": 15,
   "metadata": {
    "autoscroll": false,
    "collapsed": false,
    "ein.tags": "worksheet-0",
    "slideshow": {
     "slide_type": "-"
    }
   },
   "outputs": [],
   "source": [
    "genome_data = pd.read_csv(file_list[0], sep='\\t',\n",
    "                          names = ['foo', 'bar', 'genome'], skiprows=3)\n",
    "genome = genome_data['genome']\n",
    "# Flatten\n",
    "genome = genome.values.flatten()\n",
    "genome_len = len(genome)\n",
    "genome_vec = list(map(map_genome, list(genome[0])))\n",
    "assert(file_list != [])"
   ]
  }
 ],
 "metadata": {
  "name": "Test_RF.ipynb"
 },
 "nbformat": 4,
 "nbformat_minor": 2
}
