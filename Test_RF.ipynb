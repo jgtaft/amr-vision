{
 "cells": [
  {
   "cell_type": "code",
   "execution_count": 1,
   "metadata": {
    "autoscroll": false,
    "collapsed": false,
    "ein.tags": "worksheet-0",
    "slideshow": {
     "slide_type": "-"
    }
   },
   "outputs": [],
   "source": [
    "import numpy as np\n",
    "import pandas as pd\n",
    "from sklearn.model_selection import train_test_split\n",
    "from sklearn.ensemble import RandomForestClassifier"
   ]
  },
  {
   "cell_type": "code",
   "execution_count": 2,
   "metadata": {
    "autoscroll": false,
    "collapsed": false,
    "ein.tags": "worksheet-0",
    "slideshow": {
     "slide_type": "-"
    }
   },
   "outputs": [],
   "source": [
    "import glob\n",
    "file_list = glob.glob(\"data/*.tsv\")\n",
    "\n"
   ]
  },
  {
   "cell_type": "code",
   "execution_count": 5,
   "metadata": {
    "autoscroll": false,
    "collapsed": false,
    "ein.tags": "worksheet-0",
    "slideshow": {
     "slide_type": "-"
    }
   },
   "outputs": [],
   "source": [
    "def map_genome(base_pair):\n",
    "            if base_pair == 'A':\n",
    "                return 0\n",
    "            elif base_pair == 'T':\n",
    "                return 1\n",
    "            elif base_pair == 'C':\n",
    "                return 2\n",
    "            elif base_pair == 'G':\n",
    "                return 3\n",
    "\n",
    "\n",
    "            # Go from file name to list of length 3994, each entry w/ 330 base pair sequence\n",
    "def file_to_matrix(file_name):\n",
    "    genome_data = pd.read_csv('data/SRR3721963_wgmlst_sig.tsv', sep='\\t',\n",
    "                              names = ['foo', 'bar', 'genome'], skiprows=3)\n",
    "    genome = genome_data['genome']\n",
    "    #coded_seq = np.zeros(len(\n",
    "    coded_seq = []\n",
    "\n",
    "    for seq in genome:\n",
    "        mapped_seq = list(map(map_genome, list(seq)))\n",
    "        coded_seq.append(mapped_seq)\n",
    "\n",
    "    return coded_seq\n",
    "\n"
   ]
  },
  {
   "cell_type": "code",
   "execution_count": null,
   "metadata": {
    "autoscroll": false,
    "collapsed": false,
    "ein.tags": "worksheet-0",
    "slideshow": {
     "slide_type": "-"
    }
   },
   "outputs": [],
   "source": [
    "file_"
   ]
  },
  {
   "cell_type": "code",
   "execution_count": null,
   "metadata": {
    "autoscroll": false,
    "collapsed": false,
    "ein.tags": "worksheet-0",
    "slideshow": {
     "slide_type": "-"
    }
   },
   "outputs": [],
   "source": [
    "data_matrices = list(map(file_to_matrix, file_list))\n",
    "# 241 samples, each with 1,318,020 base pairs\n"
   ]
  },
  {
   "cell_type": "code",
   "execution_count": null,
   "metadata": {
    "autoscroll": false,
    "collapsed": false,
    "ein.tags": "worksheet-0",
    "slideshow": {
     "slide_type": "-"
    }
   },
   "outputs": [],
   "source": [
    "print(data_matrices[0])\n"
   ]
  },
  {
   "cell_type": "code",
   "execution_count": 4,
   "metadata": {
    "autoscroll": false,
    "collapsed": false,
    "ein.tags": "worksheet-0",
    "slideshow": {
     "slide_type": "-"
    }
   },
   "outputs": [],
   "source": [
    "clf = RandomForestClassifier(n_estimators=500)\n",
    "clf.fit(X_train, y_train)"
   ]
  },
  {
   "cell_type": "code",
   "execution_count": null,
   "metadata": {
    "autoscroll": false,
    "collapsed": false,
    "ein.tags": "worksheet-0",
    "slideshow": {
     "slide_type": "-"
    }
   },
   "outputs": [],
   "source": [
    "# Test and check accuracy\n",
    "print(clf.score(X_test, y_test)"
   ]
  }
 ],
 "metadata": {
  "name": "Test_RF.ipynb"
 },
 "nbformat": 4,
 "nbformat_minor": 2
}
